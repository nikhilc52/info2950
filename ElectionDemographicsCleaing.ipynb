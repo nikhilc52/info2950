{
 "cells": [
  {
   "cell_type": "code",
   "execution_count": 53,
   "metadata": {},
   "outputs": [],
   "source": [
    "import numpy as np\n",
    "import pandas as pd\n",
    "import duckdb"
   ]
  },
  {
   "cell_type": "code",
   "execution_count": 54,
   "metadata": {},
   "outputs": [],
   "source": [
    "from pandas import unique\n",
    "\n",
    "\n",
    "demographics = pd.read_csv('data/election_demographics_amended.csv', index_col=False)\n",
    "\n",
    "demographics['Presidential'] = demographics['Presidential'].astype(int)\n",
    "\n",
    "demographics = demographics[['State','Year','TotalBallots','PercentVotingEligibleVotes','PercentBachelors','Income','PercentWhite','AverageAge','Presidential']]"
   ]
  },
  {
   "cell_type": "markdown",
   "metadata": {},
   "source": [
    "## Cleaning data\n",
    "We are going to convert the scale of the data columns below:\n",
    "\n",
    "- PercentVotingEligibleVotes: from 1 per percent to per 100 percent (multiplying by 100)\n",
    "\n",
    "- PercentWhite: from 1 per percent to per 100 percent (multiplying by 100)"
   ]
  },
  {
   "cell_type": "code",
   "execution_count": 55,
   "metadata": {},
   "outputs": [],
   "source": [
    "demographics['PercentVotingEligibleVotes'] = demographics['PercentVotingEligibleVotes'] * 100\n",
    "demographics['PercentWhite'] = demographics['PercentWhite'] * 100"
   ]
  },
  {
   "cell_type": "markdown",
   "metadata": {},
   "source": [
    "#### Creating 2 new dataframes seperated by presidential years and midterm years\n"
   ]
  },
  {
   "cell_type": "code",
   "execution_count": 56,
   "metadata": {},
   "outputs": [],
   "source": [
    "demographics_presidential = duckdb.sql(\"\"\"SELECT State,Year,PercentVotingEligibleVotes FROM demographics WHERE Presidential=1 AND State!='District of Columbia'\"\"\").df()\n",
    "demographics_midterm = duckdb.sql(\"\"\"SELECT State,Year,PercentVotingEligibleVotes FROM demographics WHERE Presidential=0 AND State!='District of Columbia'\"\"\").df()"
   ]
  },
  {
   "cell_type": "markdown",
   "metadata": {},
   "source": [
    "### Exporting the 3 updated dataframes to CSVs"
   ]
  },
  {
   "cell_type": "code",
   "execution_count": 57,
   "metadata": {},
   "outputs": [],
   "source": [
    "demographics = demographics.dropna()\n",
    "demographics_presidential = demographics_presidential.dropna()\n",
    "demographics_midterm = demographics_midterm.dropna()\n",
    "demographics.to_csv('data/election_demographics_final.csv')\n",
    "demographics_presidential.to_csv('data/election_demographics_presidential.csv')\n",
    "demographics_midterm.to_csv('data/election_demographics_midterm.csv')"
   ]
  }
 ],
 "metadata": {
  "kernelspec": {
   "display_name": "base",
   "language": "python",
   "name": "python3"
  },
  "language_info": {
   "codemirror_mode": {
    "name": "ipython",
    "version": 3
   },
   "file_extension": ".py",
   "mimetype": "text/x-python",
   "name": "python",
   "nbconvert_exporter": "python",
   "pygments_lexer": "ipython3",
   "version": "3.12.4"
  }
 },
 "nbformat": 4,
 "nbformat_minor": 2
}
