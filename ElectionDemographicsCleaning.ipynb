{
 "cells": [
  {
   "cell_type": "markdown",
   "metadata": {},
   "source": [
    "# Cleaning Appendix"
   ]
  },
  {
   "cell_type": "markdown",
   "metadata": {},
   "source": [
    "Importing libraries:"
   ]
  },
  {
   "cell_type": "code",
   "execution_count": 19,
   "metadata": {},
   "outputs": [],
   "source": [
    "import numpy as np\n",
    "import pandas as pd\n",
    "import duckdb"
   ]
  },
  {
   "cell_type": "markdown",
   "metadata": {},
   "source": [
    "Reading in our amended CSV, switching the type of the Boolean reference column (ints for our model) and dropping unneeded columns post-phase 2 EDA."
   ]
  },
  {
   "cell_type": "code",
   "execution_count": 20,
   "metadata": {},
   "outputs": [],
   "source": [
    "demographics = pd.read_csv('data/election_demographics_amended.csv', index_col=False)\n",
    "\n",
    "demographics['Presidential'] = demographics['Presidential'].astype(int)\n",
    "\n",
    "demographics = demographics[['State','Year','TotalBallots','PercentVotingEligibleVotes',\n",
    "                             'PercentBachelors','Income','PercentWhite','AverageAge','Presidential']]"
   ]
  },
  {
   "cell_type": "markdown",
   "metadata": {},
   "source": [
    "We are going to convert the scale of the data columns below:\n",
    "\n",
    "- PercentVotingEligibleVotes: from 0 to 1 to 0 to 100 (multiplying by 100)\n",
    "- PercentWhite: from 0 to 1 to 0 to 100 (multiplying by 100)\n",
    "- Income: dividing this by 1000 to indicate income in thousands of dollars\n",
    "\n",
    "These changes are just so that our coefficients for modeling are more readable since the units are less dispersed. There's no loss of information from doing these transformations."
   ]
  },
  {
   "cell_type": "code",
   "execution_count": 21,
   "metadata": {},
   "outputs": [],
   "source": [
    "demographics['PercentVotingEligibleVotes'] = demographics['PercentVotingEligibleVotes'] * 100\n",
    "demographics['PercentWhite'] = demographics['PercentWhite'] * 100\n",
    "demographics['Income'] = demographics['Income'] / 1000"
   ]
  },
  {
   "cell_type": "markdown",
   "metadata": {},
   "source": [
    "Creating 2 new dataframes seperated by presidential years and midterm years:\n"
   ]
  },
  {
   "cell_type": "code",
   "execution_count": 22,
   "metadata": {},
   "outputs": [],
   "source": [
    "demographics_presidential = duckdb.sql(\"\"\"SELECT State,Year,PercentVotingEligibleVotes FROM demographics WHERE Presidential=1\"\"\").df()\n",
    "demographics_midterm = duckdb.sql(\"\"\"SELECT State,Year,PercentVotingEligibleVotes FROM demographics WHERE Presidential=0\"\"\").df()"
   ]
  },
  {
   "cell_type": "markdown",
   "metadata": {},
   "source": [
    "Exporting the 3 updated dataframes to CSVs, after dropping NAs in any columns (since all columns will eventually be used) for modeling:"
   ]
  },
  {
   "cell_type": "code",
   "execution_count": 23,
   "metadata": {},
   "outputs": [],
   "source": [
    "demographics = demographics.dropna()\n",
    "demographics_presidential = demographics_presidential.dropna()\n",
    "demographics_midterm = demographics_midterm.dropna()\n",
    "\n",
    "demographics.to_csv('data/election_demographics_final.csv')\n",
    "demographics_presidential.to_csv('data/election_demographics_presidential.csv')\n",
    "demographics_midterm.to_csv('data/election_demographics_midterm.csv')"
   ]
  }
 ],
 "metadata": {
  "kernelspec": {
   "display_name": "info2950FA24",
   "language": "python",
   "name": "python3"
  },
  "language_info": {
   "codemirror_mode": {
    "name": "ipython",
    "version": 3
   },
   "file_extension": ".py",
   "mimetype": "text/x-python",
   "name": "python",
   "nbconvert_exporter": "python",
   "pygments_lexer": "ipython3",
   "version": "3.12.4"
  }
 },
 "nbformat": 4,
 "nbformat_minor": 2
}
