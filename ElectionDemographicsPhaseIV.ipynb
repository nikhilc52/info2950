{
 "cells": [
  {
   "cell_type": "markdown",
   "metadata": {},
   "source": [
    "# Introduction\n",
    "\n",
    "Elections are multi-faceted events, and everything from campaigning to the vocabulary in candidate's speeches is carefully chosen. However, an often overlooked aspect of the election is whether or not a U.S. Citizen will actually complete the political process. Our project seeks to address this issue by simply asking whether or not a given person (based on a number of factors) will actually cast their ballot.\n",
    "\n"
   ]
  },
  {
   "cell_type": "markdown",
   "metadata": {},
   "source": [
    "# Data Description and Cleaning"
   ]
  },
  {
   "cell_type": "markdown",
   "metadata": {},
   "source": [
    "# Preregistration Statement"
   ]
  },
  {
   "cell_type": "markdown",
   "metadata": {},
   "source": [
    "# Data Analysis"
   ]
  },
  {
   "cell_type": "code",
   "execution_count": 19,
   "metadata": {},
   "outputs": [],
   "source": [
    "import numpy as np\n",
    "import pandas as pd\n",
    "import matplotlib.pyplot as plt\n",
    "import matplotlib.ticker\n",
    "from scipy.stats import binom, poisson, norm\n",
    "from numpy import random\n",
    "import seaborn as sns\n",
    "from sklearn.linear_model import LinearRegression\n",
    "import statsmodels.api as sm\n",
    "import math\n",
    "from scipy.special import comb\n",
    "import duckdb\n",
    "from sklearn import preprocessing\n"
   ]
  },
  {
   "cell_type": "code",
   "execution_count": 26,
   "metadata": {},
   "outputs": [
    {
     "name": "stdout",
     "output_type": "stream",
     "text": [
      "                                     OLS Regression Results                                    \n",
      "===============================================================================================\n",
      "Dep. Variable:     PercentVotingEligibleVotes   R-squared (uncentered):                   0.994\n",
      "Model:                                    OLS   Adj. R-squared (uncentered):              0.994\n",
      "Method:                         Least Squares   F-statistic:                              9855.\n",
      "Date:                        Mon, 18 Nov 2024   Prob (F-statistic):                   1.95e-198\n",
      "Time:                                19:10:04   Log-Likelihood:                          287.59\n",
      "No. Observations:                         182   AIC:                                     -569.2\n",
      "Df Residuals:                             179   BIC:                                     -559.6\n",
      "Df Model:                                   3                                                  \n",
      "Covariance Type:                    nonrobust                                                  \n",
      "================================================================================\n",
      "                   coef    std err          t      P>|t|      [0.025      0.975]\n",
      "--------------------------------------------------------------------------------\n",
      "Income        2.717e-06    2.9e-07      9.365      0.000    2.14e-06    3.29e-06\n",
      "PercentWhite     0.1827      0.024      7.595      0.000       0.135       0.230\n",
      "AverageAge       0.0080      0.001     10.952      0.000       0.007       0.009\n",
      "==============================================================================\n",
      "Omnibus:                        1.593   Durbin-Watson:                   1.960\n",
      "Prob(Omnibus):                  0.451   Jarque-Bera (JB):                1.448\n",
      "Skew:                          -0.218   Prob(JB):                        0.485\n",
      "Kurtosis:                       3.002   Cond. No.                     4.79e+05\n",
      "==============================================================================\n",
      "\n",
      "Notes:\n",
      "[1] R² is computed without centering (uncentered) since the model does not contain a constant.\n",
      "[2] Standard Errors assume that the covariance matrix of the errors is correctly specified.\n",
      "[3] The condition number is large, 4.79e+05. This might indicate that there are\n",
      "strong multicollinearity or other numerical problems.\n"
     ]
    }
   ],
   "source": [
    "demographics = pd.read_csv('data/election_demographics_amended.csv')\n",
    "\n",
    "demographics = demographics.dropna()\n",
    "demographics['Presidential'] = demographics['Presidential'].astype(int)\n",
    "# demographics['PercentWhite'] = np.log(demographics['PercentWhite'])\n",
    "\n",
    "demographics_presidential = duckdb.sql(\"\"\"SELECT * FROM demographics WHERE Presidential=1 AND State!='District of Columbia'\"\"\").df()\n",
    "# demographics_midterm = duckdb.sql(\"\"\"SELECT * FROM demographics WHERE Presidential=False\"\"\").df()\n",
    "\n",
    "columns = ['Income','PercentWhite','AverageAge']\n",
    "\n",
    "# x = sm.add_constant(demographics_presidential[columns])\n",
    "x=demographics_presidential[columns]\n",
    "model = sm.OLS(demographics_presidential['PercentVotingEligibleVotes'],x).fit()\n",
    "print(model.summary())\n",
    "\n",
    "\n",
    "# x = sm.add_constant(demographics_midterm[columns])\n",
    "# model = sm.OLS(demographics_midterm['PercentVotingEligibleVotes'],x).fit()\n",
    "# print(model.summary())"
   ]
  },
  {
   "cell_type": "code",
   "execution_count": 12,
   "metadata": {},
   "outputs": [
    {
     "data": {
      "text/plain": [
       "Text(0, 0.5, 'Residual')"
      ]
     },
     "execution_count": 12,
     "metadata": {},
     "output_type": "execute_result"
    },
    {
     "data": {
      "image/png": "[encoded data removed]",
      "text/plain": [
       "<Figure size 640x480 with 1 Axes>"
      ]
     },
     "metadata": {},
     "output_type": "display_data"
    }
   ],
   "source": [
    "yhat = model.predict()\n",
    "residuals = demographics_presidential['PercentVotingEligibleVotes'] - model.predict()\n",
    "sns.scatterplot(y=residuals, x=demographics_presidential['Year'])\n",
    "plt.ylabel('Residual')"
   ]
  },
  {
   "cell_type": "markdown",
   "metadata": {},
   "source": [
    "# Evaluation of Significance"
   ]
  },
  {
   "cell_type": "markdown",
   "metadata": {},
   "source": [
    "# Conclusions"
   ]
  },
  {
   "cell_type": "markdown",
   "metadata": {},
   "source": [
    "# Limitations"
   ]
  },
  {
   "cell_type": "markdown",
   "metadata": {},
   "source": [
    "# Acknowledgements and Bibliography"
   ]
  }
 ],
 "metadata": {
  "kernelspec": {
   "display_name": "Python 3",
   "language": "python",
   "name": "python3"
  },
  "language_info": {
   "codemirror_mode": {
    "name": "ipython",
    "version": 3
   },
   "file_extension": ".py",
   "mimetype": "text/x-python",
   "name": "python",
   "nbconvert_exporter": "python",
   "pygments_lexer": "ipython3",
   "version": "3.12.4"
  }
 },
 "nbformat": 4,
 "nbformat_minor": 2
}
